{
 "cells": [
  {
   "cell_type": "markdown",
   "metadata": {},
   "source": [
    "Roger & Shi PDE Boundary Conditions"
   ]
  },
  {
   "cell_type": "markdown",
   "metadata": {},
   "source": [
    "**Boundary**\n",
    "\n",
    "$f_{i,0} = \\frac{1 - e^{-rT}}{rT} \\quad f_{i,M} = 0 $\n"
   ]
  },
  {
   "cell_type": "code",
   "execution_count": 16,
   "metadata": {},
   "outputs": [
    {
     "name": "stdout",
     "output_type": "stream",
     "text": [
      "n_grid: 99\n",
      "The option price using implicit method is: 0.00033255693597675716\n"
     ]
    },
    {
     "data": {
      "image/png": "[encoded data removed]",
      "text/plain": [
       "<Figure size 432x288 with 1 Axes>"
      ]
     },
     "metadata": {
      "needs_background": "light"
     },
     "output_type": "display_data"
    }
   ],
   "source": [
    "import numpy as np\n",
    "import scipy as sp\n",
    "import scipy.sparse as spsp\n",
    "import scipy.sparse.linalg as spsplg\n",
    "import matplotlib.pyplot as plt\n",
    "\n",
    "def RS_Implicit(S,K,r,sigma,T,prt=True):\n",
    "    year_frac = 5000\n",
    "    dt = 1/year_frac\n",
    "    sim_points = int(year_frac *T)\n",
    "\n",
    "    delta_z = 0.05\n",
    "    upper_z = 0\n",
    "    lower_z = -5\n",
    "\n",
    "    n_grid = int((upper_z - lower_z)/delta_z) - 1\n",
    "    if prt==True:\n",
    "        print(\"n_grid:\", n_grid)\n",
    "    asset_price = np.linspace(lower_z + delta_z, upper_z - delta_z, n_grid)\n",
    "    po_call = np.maximum(asset_price, 0)\n",
    "\n",
    "    #implicit method\n",
    "    def aj(j,r,dt,dz,sigma,T):\n",
    "      z = lower_z + j*dz\n",
    "      Aj = (0.5*((1-T*r*z)/(T*dz)) - 0.5*(sigma*z/dz)**2)*dt\n",
    "      return Aj\n",
    "\n",
    "    def bj(j,r,dt,dz,sigma,T):\n",
    "      z = lower_z + j*dz\n",
    "      Bj = 1 + (dt*(sigma*z/dz)**2)\n",
    "      return Bj\n",
    "\n",
    "    def cj(j,r,dt,dz,sigma,T):\n",
    "      z = lower_z + j*dz\n",
    "      Cj = -((0.5*(1-r*z*T)/(T*dz) + 0.5*(sigma*z/dz)**2))*dt\n",
    "      return Cj\n",
    "\n",
    "\n",
    "    # using sparse matrix methods:\n",
    "\n",
    "    spg_mat = spsp.diags(\n",
    "        [[aj(j,r,dt,delta_z,sigma,T) for j in range(2,n_grid+1)],\n",
    "         [bj(j,r,dt,delta_z,sigma,T) for j in range(1,n_grid+1)],\n",
    "         [cj(j,r,dt,delta_z,sigma,T) for j in range(1,n_grid)]]\n",
    "    , [-1,0,1], (n_grid, n_grid)).tocsc()\n",
    "\n",
    "    imRes = po_call.copy()\n",
    "    a_1 = aj(1,r,dt,delta_z, sigma,T)\n",
    "    c_m_1 = cj(n_grid, r, dt, delta_z,sigma,T)\n",
    "\n",
    "    for i in range(sim_points-1):\n",
    "      t = (i+1)*dt\n",
    "      imRes[0] -=  a_1*(1-np.exp(-r*T))/(r*T)\n",
    "      imRes[-1] -= c_m_1*0\n",
    "      imRes = spsplg.spsolve(spg_mat, imRes)\n",
    "\n",
    "    lab=\"S = \"+str(S)\n",
    "    plt.plot(S*(asset_price), imRes*S, label = \"implicit scheme\")\n",
    "\n",
    "    rsKlist = np.round(-S*(asset_price), 10)\n",
    "    if prt==True:\n",
    "        print(\"The option price using implicit method is:\",(imRes*S)[np.where(rsKlist==K)][0])\n",
    "\n",
    "RS_Implicit(S=100,K=95,r=0.02,sigma=0.5,T=1)"
   ]
  },
  {
   "cell_type": "markdown",
   "metadata": {},
   "source": [
    "**Boundary**\n",
    "\n",
    "$f_{i,0} = \\frac{1-e^{-r(T-t)}}{rT}, \\quad f_{i,M}= z_M$"
   ]
  },
  {
   "cell_type": "code",
   "execution_count": 17,
   "metadata": {},
   "outputs": [
    {
     "name": "stdout",
     "output_type": "stream",
     "text": [
      "n_grid: 99\n",
      "The option price using implicit method is: 0.0002839347022374831\n"
     ]
    },
    {
     "data": {
      "image/png": "[encoded data removed]",
      "text/plain": [
       "<Figure size 432x288 with 1 Axes>"
      ]
     },
     "metadata": {
      "needs_background": "light"
     },
     "output_type": "display_data"
    }
   ],
   "source": [
    "def RS_Implicit(S,K,r,sigma,T,prt=True):\n",
    "    year_frac = 5000\n",
    "    dt = 1/year_frac\n",
    "    sim_points = int(year_frac *T)\n",
    "\n",
    "    delta_z = 0.05\n",
    "    upper_z = 0\n",
    "    lower_z = -5\n",
    "\n",
    "    n_grid = int((upper_z - lower_z)/delta_z) - 1\n",
    "    if prt==True:\n",
    "        print(\"n_grid:\", n_grid)\n",
    "    asset_price = np.linspace(lower_z + delta_z, upper_z - delta_z, n_grid)\n",
    "    po_call = np.maximum(asset_price, 0)\n",
    "\n",
    "    #implicit method\n",
    "    def aj(j,r,dt,dz,sigma,T):\n",
    "      z = lower_z + j*dz\n",
    "      Aj = (0.5*((1-T*r*z)/(T*dz)) - 0.5*(sigma*z/dz)**2)*dt\n",
    "      return Aj\n",
    "\n",
    "    def bj(j,r,dt,dz,sigma,T):\n",
    "      z = lower_z + j*dz\n",
    "      Bj = 1 + (dt*(sigma*z/dz)**2)\n",
    "      return Bj\n",
    "\n",
    "    def cj(j,r,dt,dz,sigma,T):\n",
    "      z = lower_z + j*dz\n",
    "      Cj = -((0.5*(1-r*z*T)/(T*dz) + 0.5*(sigma*z/dz)**2))*dt\n",
    "      return Cj\n",
    "\n",
    "\n",
    "    # using sparse matrix methods:\n",
    "\n",
    "    spg_mat = spsp.diags(\n",
    "        [[aj(j,r,dt,delta_z,sigma,T) for j in range(2,n_grid+1)],\n",
    "         [bj(j,r,dt,delta_z,sigma,T) for j in range(1,n_grid+1)],\n",
    "         [cj(j,r,dt,delta_z,sigma,T) for j in range(1,n_grid)]]\n",
    "    , [-1,0,1], (n_grid, n_grid)).tocsc()\n",
    "\n",
    "    imRes = po_call.copy()\n",
    "    a_1 = aj(1,r,dt,delta_z, sigma,T)\n",
    "    c_m_1 = cj(n_grid, r, dt, delta_z,sigma,T)\n",
    "\n",
    "    for i in range(sim_points-1):\n",
    "      t = (i+1)*dt\n",
    "      imRes[0] -= a_1*(1-np.exp(-r*(T-t)))/(r*T)\n",
    "      imRes[-1] -= c_m_1*upper_z\n",
    "      imRes = spsplg.spsolve(spg_mat, imRes)\n",
    "\n",
    "    lab=\"S = \"+str(S)\n",
    "    plt.plot(-S*(asset_price), imRes*S, label = \"implicit scheme\")\n",
    "\n",
    "    rsKlist = np.round(-S*(asset_price), 10)\n",
    "    if prt==True:\n",
    "        print(\"The option price using implicit method is:\",(imRes*S)[np.where(rsKlist==K)][0])\n",
    "\n",
    "RS_Implicit(S=100,K=95,r=0.02,sigma=0.5,T=1)"
   ]
  },
  {
   "cell_type": "code",
   "execution_count": 21,
   "metadata": {},
   "outputs": [
    {
     "name": "stdout",
     "output_type": "stream",
     "text": [
      "n_grid:  99\n",
      "The option price using Crank Nicolson is: 14.116190577029569\n"
     ]
    },
    {
     "data": {
      "image/png": "[encoded data removed]",
      "text/plain": [
       "<Figure size 432x288 with 1 Axes>"
      ]
     },
     "metadata": {
      "needs_background": "light"
     },
     "output_type": "display_data"
    }
   ],
   "source": [
    "def RS_CN(S,K,r,sigma,T,prt=True):\n",
    "    year_frac = 5000\n",
    "    dt = 1/year_frac\n",
    "    sim_points = int(year_frac *T)\n",
    "\n",
    "    delta_z = 0.05\n",
    "    upper_z = 0\n",
    "    lower_z = -5\n",
    "    \n",
    "    n_grid = int((upper_z - lower_z)/delta_z) - 1\n",
    "    asset_price = np.linspace(lower_z + delta_z, upper_z - delta_z, n_grid)\n",
    "    po_call = np.maximum(asset_price, 0)\n",
    "    res = po_call.copy()\n",
    "    res.reshape((n_grid,1))\n",
    "    #crank nicolson method\n",
    "\n",
    "    def cnaj(j, r, dt, dz, sigma, T):\n",
    "        z = lower_z + j*dz\n",
    "        cnaj = ((0.25*(z*sigma/dz)**2) - ((1-T*r*z)/(4*T*dz)))*dt\n",
    "        return cnaj\n",
    "\n",
    "    def cnbj(j,r,dt,dz,sigma,T):\n",
    "        z = lower_z + j*dz\n",
    "        cnbj = 0.5*dt*(sigma*z/dz)**2\n",
    "        return cnbj\n",
    "\n",
    "    def cncj(j,r,dt,dz,sigma,T):\n",
    "        z = lower_z + j*dz\n",
    "        cncj = dt*((0.25*(z*sigma/dz)**2)+ ((1-r*z*T)/(4*T*dz)))\n",
    "        return cncj\n",
    "\n",
    "    cn_mat1 = spsp.diags([[cnaj(j,r,dt, delta_z, sigma,T) for j in range(2,n_grid+1)],\n",
    "                          [1-cnbj(j,r,dt,delta_z, sigma, T) for j in range(1,n_grid+1)],\n",
    "                          [cncj(j,r,dt,delta_z, sigma, T) for j in range(1, n_grid)]], [-1,0,1], (n_grid, n_grid)).todense()\n",
    "\n",
    "    cn_mat2 = spsp.diags([[-cnaj(j,r,dt, delta_z, sigma,T) for j in range(2,n_grid+1)],\n",
    "                          [1+cnbj(j,r,dt,delta_z, sigma, T) for j in range(1,n_grid+1)],\n",
    "                          [-cncj(j,r,dt,delta_z, sigma, T) for j in range(1, n_grid)]], [-1,0,1], (n_grid, n_grid)).tocsc()\n",
    "\n",
    "    cna_1 = cnaj(1,r,dt,delta_z, sigma, T)\n",
    "    cnc_m = cncj(n_grid,r,dt,delta_z, sigma, T)\n",
    "\n",
    "    for i in range(sim_points-1):\n",
    "        t = (i+1)*dt\n",
    "        eq1 = np.matmul(cn_mat1, res)\n",
    "        eq1[0] += cna_1 * 0 + cna_1 * 0\n",
    "        eq1 = eq1.reshape((n_grid, 1))\n",
    "        eq1[-1] += cnc_m*(upper_z + t/T) + cnc_m*(upper_z + (t+dt)/T)\n",
    "        res = spsplg.spsolve(cn_mat2, eq1)\n",
    "\n",
    "    rsKlist = np.round(-S*(asset_price),3)\n",
    "  \n",
    "    if prt==True:\n",
    "        print(\"n_grid: \",n_grid)\n",
    "        print(\"The option price using Crank Nicolson is:\",(res*S)[np.where(rsKlist==K)][0])\n",
    "    lab=\"S = \"+str(S)\n",
    "    plt.plot(-S*(asset_price), res*S, label = lab)\n",
    "\n",
    "RS_CN(S=100,K=95,r=0.02,sigma=0.5,T=1)"
   ]
  },
  {
   "cell_type": "code",
   "execution_count": null,
   "metadata": {},
   "outputs": [],
   "source": []
  }
 ],
 "metadata": {
  "kernelspec": {
   "display_name": "Python 3",
   "language": "python",
   "name": "python3"
  },
  "language_info": {
   "codemirror_mode": {
    "name": "ipython",
    "version": 3
   },
   "file_extension": ".py",
   "mimetype": "text/x-python",
   "name": "python",
   "nbconvert_exporter": "python",
   "pygments_lexer": "ipython3",
   "version": "3.8.3"
  }
 },
 "nbformat": 4,
 "nbformat_minor": 4
}
